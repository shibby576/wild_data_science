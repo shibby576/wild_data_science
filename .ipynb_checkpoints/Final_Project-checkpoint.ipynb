{
 "cells": [
  {
   "cell_type": "code",
   "execution_count": 12,
   "metadata": {
    "scrolled": true
   },
   "outputs": [],
   "source": [
    "#import the csv data into a data frame for exploration\n",
    "import pandas as pd\n",
    "\n",
    "##To test on your own system, change the path below to the location of your data set\n",
    "path = '/Users/jonathan/Desktop/dsw_final/data/Dog_Licensing.csv'\n",
    "doglic_df = pd.read_csv(path)"
   ]
  },
  {
   "cell_type": "code",
   "execution_count": 16,
   "metadata": {},
   "outputs": [
    {
     "data": {
      "text/html": [
       "<div>\n",
       "<style scoped>\n",
       "    .dataframe tbody tr th:only-of-type {\n",
       "        vertical-align: middle;\n",
       "    }\n",
       "\n",
       "    .dataframe tbody tr th {\n",
       "        vertical-align: top;\n",
       "    }\n",
       "\n",
       "    .dataframe thead th {\n",
       "        text-align: right;\n",
       "    }\n",
       "</style>\n",
       "<table border=\"1\" class=\"dataframe\">\n",
       "  <thead>\n",
       "    <tr style=\"text-align: right;\">\n",
       "      <th></th>\n",
       "      <th>RowNumber</th>\n",
       "      <th>AnimalName</th>\n",
       "      <th>AnimalGender</th>\n",
       "      <th>AnimalBirthMonth</th>\n",
       "      <th>BreedName</th>\n",
       "      <th>Borough</th>\n",
       "      <th>ZipCode</th>\n",
       "      <th>CommunityDistrict</th>\n",
       "      <th>CensusTract2010</th>\n",
       "      <th>NTA</th>\n",
       "      <th>CityCouncilDistrict</th>\n",
       "      <th>CongressionalDistrict</th>\n",
       "      <th>StateSenatorialDistrict</th>\n",
       "      <th>LicenseIssuedDate</th>\n",
       "      <th>LicenseExpiredDate</th>\n",
       "    </tr>\n",
       "  </thead>\n",
       "  <tbody>\n",
       "    <tr>\n",
       "      <th>0</th>\n",
       "      <td>533</td>\n",
       "      <td>BONITA</td>\n",
       "      <td>F</td>\n",
       "      <td>05/01/2013 12:00:00 AM</td>\n",
       "      <td>Unknown</td>\n",
       "      <td>Queens</td>\n",
       "      <td>11435.0</td>\n",
       "      <td>412.0</td>\n",
       "      <td>208.0</td>\n",
       "      <td>QN61</td>\n",
       "      <td>28.0</td>\n",
       "      <td>5.0</td>\n",
       "      <td>10.0</td>\n",
       "      <td>10/24/2014</td>\n",
       "      <td>11/15/2017</td>\n",
       "    </tr>\n",
       "    <tr>\n",
       "      <th>1</th>\n",
       "      <td>548</td>\n",
       "      <td>ROCKY</td>\n",
       "      <td>M</td>\n",
       "      <td>05/01/2014 12:00:00 AM</td>\n",
       "      <td>Labrador Retriever Crossbreed</td>\n",
       "      <td>Queens</td>\n",
       "      <td>11691.0</td>\n",
       "      <td>414.0</td>\n",
       "      <td>100801.0</td>\n",
       "      <td>QN15</td>\n",
       "      <td>31.0</td>\n",
       "      <td>5.0</td>\n",
       "      <td>10.0</td>\n",
       "      <td>10/25/2014</td>\n",
       "      <td>10/25/2019</td>\n",
       "    </tr>\n",
       "    <tr>\n",
       "      <th>2</th>\n",
       "      <td>622</td>\n",
       "      <td>BULLY</td>\n",
       "      <td>M</td>\n",
       "      <td>07/01/2010 12:00:00 AM</td>\n",
       "      <td>American Pit Bull Terrier/Pit Bull</td>\n",
       "      <td>Queens</td>\n",
       "      <td>11419.0</td>\n",
       "      <td>410.0</td>\n",
       "      <td>98.0</td>\n",
       "      <td>QN55</td>\n",
       "      <td>28.0</td>\n",
       "      <td>5.0</td>\n",
       "      <td>10.0</td>\n",
       "      <td>10/28/2014</td>\n",
       "      <td>09/24/2016</td>\n",
       "    </tr>\n",
       "    <tr>\n",
       "      <th>3</th>\n",
       "      <td>633</td>\n",
       "      <td>COCO</td>\n",
       "      <td>M</td>\n",
       "      <td>02/01/2005 12:00:00 AM</td>\n",
       "      <td>Labrador Retriever</td>\n",
       "      <td>Queens</td>\n",
       "      <td>11692.0</td>\n",
       "      <td>414.0</td>\n",
       "      <td>964.0</td>\n",
       "      <td>QN12</td>\n",
       "      <td>31.0</td>\n",
       "      <td>5.0</td>\n",
       "      <td>10.0</td>\n",
       "      <td>10/29/2014</td>\n",
       "      <td>10/29/2017</td>\n",
       "    </tr>\n",
       "    <tr>\n",
       "      <th>4</th>\n",
       "      <td>655</td>\n",
       "      <td>SKI</td>\n",
       "      <td>F</td>\n",
       "      <td>09/01/2012 12:00:00 AM</td>\n",
       "      <td>American Pit Bull Terrier/Pit Bull</td>\n",
       "      <td>Queens</td>\n",
       "      <td>11691.0</td>\n",
       "      <td>414.0</td>\n",
       "      <td>100802.0</td>\n",
       "      <td>QN15</td>\n",
       "      <td>31.0</td>\n",
       "      <td>5.0</td>\n",
       "      <td>10.0</td>\n",
       "      <td>10/31/2014</td>\n",
       "      <td>10/31/2019</td>\n",
       "    </tr>\n",
       "  </tbody>\n",
       "</table>\n",
       "</div>"
      ],
      "text/plain": [
       "   RowNumber AnimalName AnimalGender        AnimalBirthMonth  \\\n",
       "0        533    BONITA             F  05/01/2013 12:00:00 AM   \n",
       "1        548      ROCKY            M  05/01/2014 12:00:00 AM   \n",
       "2        622      BULLY            M  07/01/2010 12:00:00 AM   \n",
       "3        633      COCO             M  02/01/2005 12:00:00 AM   \n",
       "4        655       SKI             F  09/01/2012 12:00:00 AM   \n",
       "\n",
       "                            BreedName Borough  ZipCode  CommunityDistrict  \\\n",
       "0                             Unknown  Queens  11435.0              412.0   \n",
       "1       Labrador Retriever Crossbreed  Queens  11691.0              414.0   \n",
       "2  American Pit Bull Terrier/Pit Bull  Queens  11419.0              410.0   \n",
       "3                  Labrador Retriever  Queens  11692.0              414.0   \n",
       "4  American Pit Bull Terrier/Pit Bull  Queens  11691.0              414.0   \n",
       "\n",
       "   CensusTract2010   NTA  CityCouncilDistrict  CongressionalDistrict  \\\n",
       "0            208.0  QN61                 28.0                    5.0   \n",
       "1         100801.0  QN15                 31.0                    5.0   \n",
       "2             98.0  QN55                 28.0                    5.0   \n",
       "3            964.0  QN12                 31.0                    5.0   \n",
       "4         100802.0  QN15                 31.0                    5.0   \n",
       "\n",
       "   StateSenatorialDistrict LicenseIssuedDate LicenseExpiredDate  \n",
       "0                     10.0        10/24/2014         11/15/2017  \n",
       "1                     10.0        10/25/2014         10/25/2019  \n",
       "2                     10.0        10/28/2014         09/24/2016  \n",
       "3                     10.0        10/29/2014         10/29/2017  \n",
       "4                     10.0        10/31/2014         10/31/2019  "
      ]
     },
     "execution_count": 16,
     "metadata": {},
     "output_type": "execute_result"
    }
   ],
   "source": [
    "doglic_df.head()"
   ]
  },
  {
   "cell_type": "code",
   "execution_count": 17,
   "metadata": {},
   "outputs": [
    {
     "name": "stdout",
     "output_type": "stream",
     "text": [
      "<class 'pandas.core.frame.DataFrame'>\n",
      "RangeIndex: 121949 entries, 0 to 121948\n",
      "Data columns (total 15 columns):\n",
      "RowNumber                  121949 non-null int64\n",
      "AnimalName                 121714 non-null object\n",
      "AnimalGender               121948 non-null object\n",
      "AnimalBirthMonth           121948 non-null object\n",
      "BreedName                  121948 non-null object\n",
      "Borough                    121948 non-null object\n",
      "ZipCode                    121948 non-null float64\n",
      "CommunityDistrict          118612 non-null float64\n",
      "CensusTract2010            118612 non-null float64\n",
      "NTA                        118612 non-null object\n",
      "CityCouncilDistrict        118612 non-null float64\n",
      "CongressionalDistrict      118612 non-null float64\n",
      "StateSenatorialDistrict    118612 non-null float64\n",
      "LicenseIssuedDate          121948 non-null object\n",
      "LicenseExpiredDate         121948 non-null object\n",
      "dtypes: float64(6), int64(1), object(8)\n",
      "memory usage: 14.0+ MB\n"
     ]
    }
   ],
   "source": [
    "doglic_df.info()"
   ]
  },
  {
   "cell_type": "code",
   "execution_count": 27,
   "metadata": {},
   "outputs": [
    {
     "data": {
      "text/plain": [
       "array([[<matplotlib.axes._subplots.AxesSubplot object at 0x129fea7b8>]],\n",
       "      dtype=object)"
      ]
     },
     "execution_count": 27,
     "metadata": {},
     "output_type": "execute_result"
    },
    {
     "data": {
      "image/png": "[encoded data removed]",
      "text/plain": [
       "<Figure size 432x288 with 1 Axes>"
      ]
     },
     "metadata": {},
     "output_type": "display_data"
    }
   ],
   "source": [
    "\n",
    "doglic_df.hist(column ='ZipCode',bins=range(10000,11750))"
   ]
  },
  {
   "cell_type": "code",
   "execution_count": 41,
   "metadata": {},
   "outputs": [
    {
     "name": "stderr",
     "output_type": "stream",
     "text": [
      "/anaconda3/lib/python3.6/site-packages/matplotlib/axes/_axes.py:6462: UserWarning: The 'normed' kwarg is deprecated, and has been replaced by the 'density' kwarg.\n",
      "  warnings.warn(\"The 'normed' kwarg is deprecated, and has been \"\n"
     ]
    },
    {
     "data": {
      "text/plain": [
       "<matplotlib.axes._subplots.AxesSubplot at 0x1a351436a0>"
      ]
     },
     "execution_count": 41,
     "metadata": {},
     "output_type": "execute_result"
    },
    {
     "data": {
      "image/png": "[encoded data removed]",
      "text/plain": [
       "<Figure size 432x288 with 1 Axes>"
      ]
     },
     "metadata": {},
     "output_type": "display_data"
    }
   ],
   "source": [
    "import seaborn as sns\n",
    "zips = doglic_df['ZipCode'].fillna(0, inplace=True)\n",
    "sns.distplot(doglic_df['ZipCode'], hist=True, bins = 50)"
   ]
  },
  {
   "cell_type": "code",
   "execution_count": null,
   "metadata": {},
   "outputs": [],
   "source": []
  }
 ],
 "metadata": {
  "kernelspec": {
   "display_name": "Python 3",
   "language": "python",
   "name": "python3"
  },
  "language_info": {
   "codemirror_mode": {
    "name": "ipython",
    "version": 3
   },
   "file_extension": ".py",
   "mimetype": "text/x-python",
   "name": "python",
   "nbconvert_exporter": "python",
   "pygments_lexer": "ipython3",
   "version": "3.6.5"
  }
 },
 "nbformat": 4,
 "nbformat_minor": 2
}
